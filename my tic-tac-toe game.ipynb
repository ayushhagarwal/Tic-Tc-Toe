{
 "cells": [
  {
   "cell_type": "code",
   "execution_count": 1,
   "metadata": {},
   "outputs": [],
   "source": [
    "#This is the function we are defining to get the game board. We grab the indexp ositions and print them to get the board\n",
    "from IPython.display import clear_output\n",
    "def game_board(board):\n",
    "    clear_output()  #this doesnt allow to show the previous history on the board. This we the user will feel that the board is \n",
    "    #being updated intead of a printing a new version of the board.\n",
    "    print(\"Below is the game board which will be used in the game\")\n",
    "    print('---------------------------------')\n",
    "    print(board[7]+' |'+board[8]+' |'+board[9])\n",
    "    print('-----')\n",
    "    print(board[4]+' |'+board[5]+' |'+board[6])\n",
    "    print('-----')\n",
    "    print(board[1]+' |'+board[2]+' |'+board[3])\n",
    "    print('---------------------------------')\n",
    "    print(\"Designed by Ayush Agrawal\")"
   ]
  },
  {
   "cell_type": "code",
   "execution_count": 2,
   "metadata": {},
   "outputs": [
    {
     "name": "stdout",
     "output_type": "stream",
     "text": [
      "Below is the game board which will be used in the game\n",
      "---------------------------------\n",
      "X |O |X\n",
      "-----\n",
      "O |X |O\n",
      "-----\n",
      "X |O |X\n",
      "---------------------------------\n",
      "Designed by Ayush Agrawal\n"
     ]
    }
   ],
   "source": [
    "test_board = ['#','X','O','X','O','X','O','X','O','X']\n",
    "game_board(test_board)"
   ]
  },
  {
   "cell_type": "code",
   "execution_count": 3,
   "metadata": {},
   "outputs": [],
   "source": [
    "def player_input():\n",
    "    mark=''  #currently x or o is not defined for any player\n",
    "    while mark!='X' and mark!='O':\n",
    "        mark=input(\"Player_one you are requested to chose a mark for your game to begin, chose X or O::\")\n",
    "        \n",
    "#while is used beacuse it will repeat the loop every time the input is not x or o and keep on asking for input suitable to game\n",
    "\n",
    "    player_one=mark\n",
    "    if player_one=='X':\n",
    "        player_two='O'\n",
    "    else:\n",
    "        player_two='X'\n",
    "    return(player_one,player_two)"
   ]
  },
  {
   "cell_type": "code",
   "execution_count": 4,
   "metadata": {},
   "outputs": [
    {
     "name": "stdout",
     "output_type": "stream",
     "text": [
      "Player_one you are requested to chose a mark for your game to begin, chose X or O::X\n"
     ]
    }
   ],
   "source": [
    "(player_one_mark,player_two_mark)=player_input()"
   ]
  },
  {
   "cell_type": "code",
   "execution_count": 5,
   "metadata": {},
   "outputs": [
    {
     "data": {
      "text/plain": [
       "'X'"
      ]
     },
     "execution_count": 5,
     "metadata": {},
     "output_type": "execute_result"
    }
   ],
   "source": [
    "player_one_mark"
   ]
  },
  {
   "cell_type": "code",
   "execution_count": 6,
   "metadata": {},
   "outputs": [
    {
     "data": {
      "text/plain": [
       "'O'"
      ]
     },
     "execution_count": 6,
     "metadata": {},
     "output_type": "execute_result"
    }
   ],
   "source": [
    "player_two_mark"
   ]
  },
  {
   "cell_type": "code",
   "execution_count": 7,
   "metadata": {},
   "outputs": [],
   "source": [
    "#now we desgin a function so that a mark is taken and assigned to our game board\n",
    "def place_mark(board,mark,position):\n",
    "    board[position]=mark\n",
    "    "
   ]
  },
  {
   "cell_type": "code",
   "execution_count": 8,
   "metadata": {},
   "outputs": [
    {
     "name": "stdout",
     "output_type": "stream",
     "text": [
      "Below is the game board which will be used in the game\n",
      "---------------------------------\n",
      "X |% |X\n",
      "-----\n",
      "O |X |O\n",
      "-----\n",
      "X |O |X\n",
      "---------------------------------\n",
      "Designed by Ayush Agrawal\n"
     ]
    }
   ],
   "source": [
    "place_mark(test_board,'%',8)   #test that the mark assignment is working or not\n",
    "game_board(test_board)"
   ]
  },
  {
   "cell_type": "code",
   "execution_count": 9,
   "metadata": {},
   "outputs": [],
   "source": [
    "def win_check(board,mark):           #conditions for winning across rows columns and diagonals\n",
    "    \n",
    "    return ((board[7] == mark and board[8] == mark and board[9] == mark) or # across the top\n",
    "    (board[4] == mark and board[5] == mark and board[6] == mark) or # across the middle\n",
    "    (board[1] == mark and board[2] == mark and board[3] == mark) or # across the bottom\n",
    "    (board[7] == mark and board[4] == mark and board[1] == mark) or # down the middle\n",
    "    (board[8] == mark and board[5] == mark and board[2] == mark) or # down the middle\n",
    "    (board[9] == mark and board[6] == mark and board[3] == mark) or # down the right side\n",
    "    (board[7] == mark and board[5] == mark and board[3] == mark) or # diagonal\n",
    "    (board[9] == mark and board[5] == mark and board[1] == mark)) # diagonal"
   ]
  },
  {
   "cell_type": "code",
   "execution_count": 10,
   "metadata": {},
   "outputs": [
    {
     "data": {
      "text/plain": [
       "True"
      ]
     },
     "execution_count": 10,
     "metadata": {},
     "output_type": "execute_result"
    }
   ],
   "source": [
    "win_check(test_board,'X') #we see it returns true because x is winner on the diagonals on our test board    "
   ]
  },
  {
   "cell_type": "code",
   "execution_count": 11,
   "metadata": {},
   "outputs": [],
   "source": [
    "#now the very basx fundamental of any game is to decide who goes first\n",
    "# this can be don eusing random.randit a python keyword which decides random value out of two and we can use if else\n",
    "#we can treat it like a coint toss\n",
    "import random\n",
    "\n",
    "def coin_toss():\n",
    "    if random.randint(0,1) ==0:\n",
    "        return 'Player 1'\n",
    "    else:\n",
    "        return 'Player 2'"
   ]
  },
  {
   "cell_type": "code",
   "execution_count": 12,
   "metadata": {},
   "outputs": [
    {
     "data": {
      "text/plain": [
       "'Player 2'"
      ]
     },
     "execution_count": 12,
     "metadata": {},
     "output_type": "execute_result"
    }
   ],
   "source": [
    "coin_toss()"
   ]
  },
  {
   "cell_type": "code",
   "execution_count": 13,
   "metadata": {},
   "outputs": [],
   "source": [
    "#now we define a function to check if position on the bopard is freely available or not\n",
    "def space_check(board, position):\n",
    "    \n",
    "    return board[position] == ' '"
   ]
  },
  {
   "cell_type": "code",
   "execution_count": 14,
   "metadata": {},
   "outputs": [],
   "source": [
    "#function to check if the board is full to return a boolean value \n",
    "def full_board_check(board):\n",
    "    for i in range(1,10):\n",
    "        if space_check(board, i):\n",
    "            return False\n",
    "    return True"
   ]
  },
  {
   "cell_type": "code",
   "execution_count": 15,
   "metadata": {},
   "outputs": [],
   "source": [
    "#function to ask players next position to put the marker\n",
    "def player_choice(board):\n",
    "    position = 0\n",
    "    \n",
    "    while position not in [1,2,3,4,5,6,7,8,9] or not space_check(board, position):\n",
    "        position = int(input('Choose your next position: (1-9) '))       #while because if not correct it asks again nd again\n",
    "        \n",
    "    return position"
   ]
  },
  {
   "cell_type": "code",
   "execution_count": 16,
   "metadata": {},
   "outputs": [],
   "source": [
    "def replay():\n",
    "    \n",
    "    return input('Do you want to play again? Enter Yes or No: ').lower().startswith('y')"
   ]
  },
  {
   "cell_type": "code",
   "execution_count": 17,
   "metadata": {},
   "outputs": [],
   "source": [
    "#now all the functions are ready we just need to put them together using while loops and run the game"
   ]
  },
  {
   "cell_type": "code",
   "execution_count": null,
   "metadata": {},
   "outputs": [
    {
     "name": "stdout",
     "output_type": "stream",
     "text": [
      "Below is the game board which will be used in the game\n",
      "---------------------------------\n",
      "X |X |O\n",
      "-----\n",
      "O |O |X\n",
      "-----\n",
      "X |O |O\n",
      "---------------------------------\n",
      "Designed by Ayush Agrawal\n",
      "The game is a draw!\n"
     ]
    }
   ],
   "source": [
    "print('Lets have some fun via this old game of tic-tac-toe')\n",
    "\n",
    "while True:\n",
    "    # Reset the board\n",
    "    newBoard = [' '] * 10\n",
    "    player1_mark, player2_mark = player_input()\n",
    "    turn = coin_toss()\n",
    "    print(turn + ' will go first.')\n",
    "    \n",
    "    play_game = input('Are you ready to play? Enter Yes or No.')\n",
    "    \n",
    "    if play_game.lower()[0] == 'y':\n",
    "        game_on = True\n",
    "    else:\n",
    "        game_on = False\n",
    "\n",
    "    while game_on:\n",
    "        if turn == 'Player 1':\n",
    "            # Player1's turn.\n",
    "            \n",
    "            game_board(newBoard)\n",
    "            position = player_choice(newBoard)\n",
    "            place_mark(newBoard, player1_mark, position)\n",
    "\n",
    "            if win_check(newBoard, player1_mark):\n",
    "                game_board(newBoard)\n",
    "                print('Congratulations! You have won the game!')\n",
    "                game_on = False\n",
    "            else:\n",
    "                if full_board_check(newBoard):\n",
    "                    game_board(newBoard)\n",
    "                    print('The game is a draw!')\n",
    "                    break\n",
    "                else:\n",
    "                    turn = 'Player 2'\n",
    "\n",
    "        else:\n",
    "            # Player2's turn.\n",
    "            \n",
    "            game_board(newBoard)\n",
    "            position = player_choice(newBoard)\n",
    "            place_mark(newBoard, player2_mark, position)\n",
    "\n",
    "            if win_check(newBoard, player2_mark):\n",
    "                game_board(newBoard)\n",
    "                print('Player 2 has won!')\n",
    "                game_on = False\n",
    "            else:\n",
    "                if full_board_check(newBoard):\n",
    "                    game_board(newBoard)\n",
    "                    print('The game is a draw!')\n",
    "                    break\n",
    "                else:\n",
    "                    turn = 'Player 1'\n",
    "\n",
    "    if not replay():\n",
    "        break"
   ]
  },
  {
   "cell_type": "code",
   "execution_count": null,
   "metadata": {},
   "outputs": [],
   "source": []
  },
  {
   "cell_type": "code",
   "execution_count": null,
   "metadata": {},
   "outputs": [],
   "source": []
  }
 ],
 "metadata": {
  "kernelspec": {
   "display_name": "Python 3",
   "language": "python",
   "name": "python3"
  },
  "language_info": {
   "codemirror_mode": {
    "name": "ipython",
    "version": 3
   },
   "file_extension": ".py",
   "mimetype": "text/x-python",
   "name": "python",
   "nbconvert_exporter": "python",
   "pygments_lexer": "ipython3",
   "version": "3.6.5"
  }
 },
 "nbformat": 4,
 "nbformat_minor": 2
}
